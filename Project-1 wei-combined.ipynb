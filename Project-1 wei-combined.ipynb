{
 "cells": [
  {
   "cell_type": "code",
   "execution_count": 1,
   "metadata": {},
   "outputs": [],
   "source": [
    "# dependencies\n",
    "import pandas as pd\n",
    "import numpy as np\n",
    "import matplotlib.pyplot as plt\n",
    "import  scipy.stats as st"
   ]
  },
  {
   "cell_type": "code",
   "execution_count": 2,
   "metadata": {},
   "outputs": [
    {
     "data": {
      "text/html": [
       "<div>\n",
       "<style scoped>\n",
       "    .dataframe tbody tr th:only-of-type {\n",
       "        vertical-align: middle;\n",
       "    }\n",
       "\n",
       "    .dataframe tbody tr th {\n",
       "        vertical-align: top;\n",
       "    }\n",
       "\n",
       "    .dataframe thead th {\n",
       "        text-align: right;\n",
       "    }\n",
       "</style>\n",
       "<table border=\"1\" class=\"dataframe\">\n",
       "  <thead>\n",
       "    <tr style=\"text-align: right;\">\n",
       "      <th></th>\n",
       "      <th>Unnamed: 0</th>\n",
       "      <th>ID</th>\n",
       "      <th>Title</th>\n",
       "      <th>Year</th>\n",
       "      <th>Age</th>\n",
       "      <th>IMDb</th>\n",
       "      <th>Rotten Tomatoes</th>\n",
       "      <th>Netflix</th>\n",
       "      <th>Hulu</th>\n",
       "      <th>Prime Video</th>\n",
       "      <th>Disney+</th>\n",
       "      <th>Type</th>\n",
       "      <th>Directors</th>\n",
       "      <th>Genres</th>\n",
       "      <th>Country</th>\n",
       "      <th>Language</th>\n",
       "      <th>Runtime</th>\n",
       "    </tr>\n",
       "  </thead>\n",
       "  <tbody>\n",
       "    <tr>\n",
       "      <th>0</th>\n",
       "      <td>0</td>\n",
       "      <td>1</td>\n",
       "      <td>Inception</td>\n",
       "      <td>2010</td>\n",
       "      <td>13+</td>\n",
       "      <td>8.8</td>\n",
       "      <td>87%</td>\n",
       "      <td>1</td>\n",
       "      <td>0</td>\n",
       "      <td>0</td>\n",
       "      <td>0</td>\n",
       "      <td>0</td>\n",
       "      <td>Christopher Nolan</td>\n",
       "      <td>Action,Adventure,Sci-Fi,Thriller</td>\n",
       "      <td>United States,United Kingdom</td>\n",
       "      <td>English,Japanese,French</td>\n",
       "      <td>148.0</td>\n",
       "    </tr>\n",
       "    <tr>\n",
       "      <th>1</th>\n",
       "      <td>1</td>\n",
       "      <td>2</td>\n",
       "      <td>The Matrix</td>\n",
       "      <td>1999</td>\n",
       "      <td>18+</td>\n",
       "      <td>8.7</td>\n",
       "      <td>87%</td>\n",
       "      <td>1</td>\n",
       "      <td>0</td>\n",
       "      <td>0</td>\n",
       "      <td>0</td>\n",
       "      <td>0</td>\n",
       "      <td>Lana Wachowski,Lilly Wachowski</td>\n",
       "      <td>Action,Sci-Fi</td>\n",
       "      <td>United States</td>\n",
       "      <td>English</td>\n",
       "      <td>136.0</td>\n",
       "    </tr>\n",
       "    <tr>\n",
       "      <th>2</th>\n",
       "      <td>2</td>\n",
       "      <td>3</td>\n",
       "      <td>Avengers: Infinity War</td>\n",
       "      <td>2018</td>\n",
       "      <td>13+</td>\n",
       "      <td>8.5</td>\n",
       "      <td>84%</td>\n",
       "      <td>1</td>\n",
       "      <td>0</td>\n",
       "      <td>0</td>\n",
       "      <td>0</td>\n",
       "      <td>0</td>\n",
       "      <td>Anthony Russo,Joe Russo</td>\n",
       "      <td>Action,Adventure,Sci-Fi</td>\n",
       "      <td>United States</td>\n",
       "      <td>English</td>\n",
       "      <td>149.0</td>\n",
       "    </tr>\n",
       "    <tr>\n",
       "      <th>3</th>\n",
       "      <td>3</td>\n",
       "      <td>4</td>\n",
       "      <td>Back to the Future</td>\n",
       "      <td>1985</td>\n",
       "      <td>7+</td>\n",
       "      <td>8.5</td>\n",
       "      <td>96%</td>\n",
       "      <td>1</td>\n",
       "      <td>0</td>\n",
       "      <td>0</td>\n",
       "      <td>0</td>\n",
       "      <td>0</td>\n",
       "      <td>Robert Zemeckis</td>\n",
       "      <td>Adventure,Comedy,Sci-Fi</td>\n",
       "      <td>United States</td>\n",
       "      <td>English</td>\n",
       "      <td>116.0</td>\n",
       "    </tr>\n",
       "    <tr>\n",
       "      <th>4</th>\n",
       "      <td>4</td>\n",
       "      <td>5</td>\n",
       "      <td>The Good, the Bad and the Ugly</td>\n",
       "      <td>1966</td>\n",
       "      <td>18+</td>\n",
       "      <td>8.8</td>\n",
       "      <td>97%</td>\n",
       "      <td>1</td>\n",
       "      <td>0</td>\n",
       "      <td>1</td>\n",
       "      <td>0</td>\n",
       "      <td>0</td>\n",
       "      <td>Sergio Leone</td>\n",
       "      <td>Western</td>\n",
       "      <td>Italy,Spain,West Germany</td>\n",
       "      <td>Italian</td>\n",
       "      <td>161.0</td>\n",
       "    </tr>\n",
       "  </tbody>\n",
       "</table>\n",
       "</div>"
      ],
      "text/plain": [
       "   Unnamed: 0  ID                           Title  Year  Age  IMDb  \\\n",
       "0           0   1                       Inception  2010  13+   8.8   \n",
       "1           1   2                      The Matrix  1999  18+   8.7   \n",
       "2           2   3          Avengers: Infinity War  2018  13+   8.5   \n",
       "3           3   4              Back to the Future  1985   7+   8.5   \n",
       "4           4   5  The Good, the Bad and the Ugly  1966  18+   8.8   \n",
       "\n",
       "  Rotten Tomatoes  Netflix  Hulu  Prime Video  Disney+  Type  \\\n",
       "0             87%        1     0            0        0     0   \n",
       "1             87%        1     0            0        0     0   \n",
       "2             84%        1     0            0        0     0   \n",
       "3             96%        1     0            0        0     0   \n",
       "4             97%        1     0            1        0     0   \n",
       "\n",
       "                        Directors                            Genres  \\\n",
       "0               Christopher Nolan  Action,Adventure,Sci-Fi,Thriller   \n",
       "1  Lana Wachowski,Lilly Wachowski                     Action,Sci-Fi   \n",
       "2         Anthony Russo,Joe Russo           Action,Adventure,Sci-Fi   \n",
       "3                 Robert Zemeckis           Adventure,Comedy,Sci-Fi   \n",
       "4                    Sergio Leone                           Western   \n",
       "\n",
       "                        Country                 Language  Runtime  \n",
       "0  United States,United Kingdom  English,Japanese,French    148.0  \n",
       "1                 United States                  English    136.0  \n",
       "2                 United States                  English    149.0  \n",
       "3                 United States                  English    116.0  \n",
       "4      Italy,Spain,West Germany                  Italian    161.0  "
      ]
     },
     "execution_count": 2,
     "metadata": {},
     "output_type": "execute_result"
    }
   ],
   "source": [
    "#load the csv file\n",
    "df = pd.read_csv('MoviesOnStreamingPlatforms_updated.csv')\n",
    "df.head()"
   ]
  },
  {
   "cell_type": "code",
   "execution_count": 3,
   "metadata": {},
   "outputs": [
    {
     "data": {
      "text/plain": [
       "Netflix    3560\n",
       "Hulu        903\n",
       "dtype: int64"
      ]
     },
     "execution_count": 3,
     "metadata": {},
     "output_type": "execute_result"
    }
   ],
   "source": [
    "platform_num = df.iloc[:,7:9].sum()\n",
    "platform_list = platform_num.index\n",
    "platform_list\n",
    "platform_num"
   ]
  },
  {
   "cell_type": "code",
   "execution_count": 52,
   "metadata": {},
   "outputs": [
    {
     "data": {
      "image/png": "[encoded data removed]",
      "text/plain": [
       "<Figure size 432x288 with 1 Axes>"
      ]
     },
     "metadata": {
      "needs_background": "light"
     },
     "output_type": "display_data"
    }
   ],
   "source": [
    "plt.bar(platform_num.index,list(platform_num),color = 'green',alpha = 0.5)\n",
    "plt.xlabel('Platform')\n",
    "plt.ylabel('Number of Videos')\n",
    "plt.title('Number of Videos in Popular Online Platforms')\n",
    "plt.savefig('nh_output/num.png')\n",
    "plt.show()"
   ]
  },
  {
   "cell_type": "code",
   "execution_count": 5,
   "metadata": {},
   "outputs": [],
   "source": [
    "imdb_df = df.dropna(how='any',subset=['IMDb'])"
   ]
  },
  {
   "cell_type": "code",
   "execution_count": 34,
   "metadata": {},
   "outputs": [
    {
     "name": "stdout",
     "output_type": "stream",
     "text": [
      "The aveage IMDb score in Hulu is 6.14\n",
      "The aveage IMDb score in Netflix is 6.25\n",
      "p value =0.00673\n"
     ]
    },
    {
     "data": {
      "image/png": "[encoded data removed]",
      "text/plain": [
       "<Figure size 432x288 with 1 Axes>"
      ]
     },
     "metadata": {
      "needs_background": "light"
     },
     "output_type": "display_data"
    }
   ],
   "source": [
    "imdb_df = df.dropna(how='any',subset=['IMDb'])\n",
    "platform_list=['Hulu','Netflix']\n",
    "t_test=[]\n",
    "colors = ['pink','blue']\n",
    "i=0\n",
    "for platform in platform_list:\n",
    "    filt = (imdb_df[platform]==1)\n",
    "    IMDb_list = list(imdb_df['IMDb'].loc[filt])\n",
    "    ave_IMDb = round(imdb_df['IMDb'].loc[filt].mean(),2)\n",
    "    print(f'The aveage IMDb score in {platform} is {ave_IMDb}')\n",
    "    t_test.append(IMDb_list)\n",
    "    plt.boxplot(IMDb_list,positions = [i],flierprops=dict(markerfacecolor=colors[i-1], marker='s'),boxprops=dict(facecolor=colors[i]), patch_artist=True)\n",
    "#     annotation='Ave score: '+str(ave_IMDb)\n",
    "#     plt.annotate(annotation,(i-0.2,7.5),size =12)\n",
    "    i = i+1\n",
    "p_value = round(st.ttest_ind(t_test[0], t_test[1], equal_var=False)[1],5)\n",
    "print(f'p value ={p_value}')\n",
    "x_axis = np.arange(len(platform_list))\n",
    "tick_locations = [value for value in x_axis]\n",
    "# annotation_p = \"p value: \" + str(p_value)\n",
    "# plt.annotate(annotation_p,(0.3,2),size =12)\n",
    "plt.xticks(tick_locations, platform_list)\n",
    "plt.xlabel('Platforms')\n",
    "plt.ylabel('IMDb')\n",
    "plt.title(f'IMDb Score in Platforms')\n",
    "plt.savefig('nh_output/IMDB.png')\n",
    "plt.show()"
   ]
  },
  {
   "cell_type": "code",
   "execution_count": 29,
   "metadata": {},
   "outputs": [
    {
     "name": "stderr",
     "output_type": "stream",
     "text": [
      "<ipython-input-29-15d1e6900a1a>:2: SettingWithCopyWarning: \n",
      "A value is trying to be set on a copy of a slice from a DataFrame.\n",
      "Try using .loc[row_indexer,col_indexer] = value instead\n",
      "\n",
      "See the caveats in the documentation: https://pandas.pydata.org/pandas-docs/stable/user_guide/indexing.html#returning-a-view-versus-a-copy\n",
      "  rt_df['Rotten Tomatoes'] = rt_df['Rotten Tomatoes'].apply(lambda x: x.strip(\"%\")).astype(float)\n"
     ]
    },
    {
     "data": {
      "text/html": [
       "<div>\n",
       "<style scoped>\n",
       "    .dataframe tbody tr th:only-of-type {\n",
       "        vertical-align: middle;\n",
       "    }\n",
       "\n",
       "    .dataframe tbody tr th {\n",
       "        vertical-align: top;\n",
       "    }\n",
       "\n",
       "    .dataframe thead th {\n",
       "        text-align: right;\n",
       "    }\n",
       "</style>\n",
       "<table border=\"1\" class=\"dataframe\">\n",
       "  <thead>\n",
       "    <tr style=\"text-align: right;\">\n",
       "      <th></th>\n",
       "      <th>Unnamed: 0</th>\n",
       "      <th>ID</th>\n",
       "      <th>Title</th>\n",
       "      <th>Year</th>\n",
       "      <th>Age</th>\n",
       "      <th>IMDb</th>\n",
       "      <th>Rotten Tomatoes</th>\n",
       "      <th>Netflix</th>\n",
       "      <th>Hulu</th>\n",
       "      <th>Prime Video</th>\n",
       "      <th>Disney+</th>\n",
       "      <th>Type</th>\n",
       "      <th>Directors</th>\n",
       "      <th>Genres</th>\n",
       "      <th>Country</th>\n",
       "      <th>Language</th>\n",
       "      <th>Runtime</th>\n",
       "    </tr>\n",
       "  </thead>\n",
       "  <tbody>\n",
       "    <tr>\n",
       "      <th>0</th>\n",
       "      <td>0</td>\n",
       "      <td>1</td>\n",
       "      <td>Inception</td>\n",
       "      <td>2010</td>\n",
       "      <td>13+</td>\n",
       "      <td>8.8</td>\n",
       "      <td>87.0</td>\n",
       "      <td>1</td>\n",
       "      <td>0</td>\n",
       "      <td>0</td>\n",
       "      <td>0</td>\n",
       "      <td>0</td>\n",
       "      <td>Christopher Nolan</td>\n",
       "      <td>Action,Adventure,Sci-Fi,Thriller</td>\n",
       "      <td>United States,United Kingdom</td>\n",
       "      <td>English,Japanese,French</td>\n",
       "      <td>148.0</td>\n",
       "    </tr>\n",
       "    <tr>\n",
       "      <th>1</th>\n",
       "      <td>1</td>\n",
       "      <td>2</td>\n",
       "      <td>The Matrix</td>\n",
       "      <td>1999</td>\n",
       "      <td>18+</td>\n",
       "      <td>8.7</td>\n",
       "      <td>87.0</td>\n",
       "      <td>1</td>\n",
       "      <td>0</td>\n",
       "      <td>0</td>\n",
       "      <td>0</td>\n",
       "      <td>0</td>\n",
       "      <td>Lana Wachowski,Lilly Wachowski</td>\n",
       "      <td>Action,Sci-Fi</td>\n",
       "      <td>United States</td>\n",
       "      <td>English</td>\n",
       "      <td>136.0</td>\n",
       "    </tr>\n",
       "    <tr>\n",
       "      <th>2</th>\n",
       "      <td>2</td>\n",
       "      <td>3</td>\n",
       "      <td>Avengers: Infinity War</td>\n",
       "      <td>2018</td>\n",
       "      <td>13+</td>\n",
       "      <td>8.5</td>\n",
       "      <td>84.0</td>\n",
       "      <td>1</td>\n",
       "      <td>0</td>\n",
       "      <td>0</td>\n",
       "      <td>0</td>\n",
       "      <td>0</td>\n",
       "      <td>Anthony Russo,Joe Russo</td>\n",
       "      <td>Action,Adventure,Sci-Fi</td>\n",
       "      <td>United States</td>\n",
       "      <td>English</td>\n",
       "      <td>149.0</td>\n",
       "    </tr>\n",
       "    <tr>\n",
       "      <th>3</th>\n",
       "      <td>3</td>\n",
       "      <td>4</td>\n",
       "      <td>Back to the Future</td>\n",
       "      <td>1985</td>\n",
       "      <td>7+</td>\n",
       "      <td>8.5</td>\n",
       "      <td>96.0</td>\n",
       "      <td>1</td>\n",
       "      <td>0</td>\n",
       "      <td>0</td>\n",
       "      <td>0</td>\n",
       "      <td>0</td>\n",
       "      <td>Robert Zemeckis</td>\n",
       "      <td>Adventure,Comedy,Sci-Fi</td>\n",
       "      <td>United States</td>\n",
       "      <td>English</td>\n",
       "      <td>116.0</td>\n",
       "    </tr>\n",
       "    <tr>\n",
       "      <th>4</th>\n",
       "      <td>4</td>\n",
       "      <td>5</td>\n",
       "      <td>The Good, the Bad and the Ugly</td>\n",
       "      <td>1966</td>\n",
       "      <td>18+</td>\n",
       "      <td>8.8</td>\n",
       "      <td>97.0</td>\n",
       "      <td>1</td>\n",
       "      <td>0</td>\n",
       "      <td>1</td>\n",
       "      <td>0</td>\n",
       "      <td>0</td>\n",
       "      <td>Sergio Leone</td>\n",
       "      <td>Western</td>\n",
       "      <td>Italy,Spain,West Germany</td>\n",
       "      <td>Italian</td>\n",
       "      <td>161.0</td>\n",
       "    </tr>\n",
       "    <tr>\n",
       "      <th>...</th>\n",
       "      <td>...</td>\n",
       "      <td>...</td>\n",
       "      <td>...</td>\n",
       "      <td>...</td>\n",
       "      <td>...</td>\n",
       "      <td>...</td>\n",
       "      <td>...</td>\n",
       "      <td>...</td>\n",
       "      <td>...</td>\n",
       "      <td>...</td>\n",
       "      <td>...</td>\n",
       "      <td>...</td>\n",
       "      <td>...</td>\n",
       "      <td>...</td>\n",
       "      <td>...</td>\n",
       "      <td>...</td>\n",
       "      <td>...</td>\n",
       "    </tr>\n",
       "    <tr>\n",
       "      <th>16671</th>\n",
       "      <td>16671</td>\n",
       "      <td>16672</td>\n",
       "      <td>George of the Jungle 2</td>\n",
       "      <td>2003</td>\n",
       "      <td>7+</td>\n",
       "      <td>3.3</td>\n",
       "      <td>17.0</td>\n",
       "      <td>0</td>\n",
       "      <td>0</td>\n",
       "      <td>0</td>\n",
       "      <td>1</td>\n",
       "      <td>0</td>\n",
       "      <td>David Grossman</td>\n",
       "      <td>Adventure,Comedy,Family</td>\n",
       "      <td>United States,Australia</td>\n",
       "      <td>English</td>\n",
       "      <td>87.0</td>\n",
       "    </tr>\n",
       "    <tr>\n",
       "      <th>16677</th>\n",
       "      <td>16677</td>\n",
       "      <td>16678</td>\n",
       "      <td>That Darn Cat</td>\n",
       "      <td>1997</td>\n",
       "      <td>7+</td>\n",
       "      <td>4.7</td>\n",
       "      <td>13.0</td>\n",
       "      <td>0</td>\n",
       "      <td>0</td>\n",
       "      <td>0</td>\n",
       "      <td>1</td>\n",
       "      <td>0</td>\n",
       "      <td>Robert Stevenson</td>\n",
       "      <td>Comedy,Crime,Family,Thriller</td>\n",
       "      <td>United States</td>\n",
       "      <td>English,French</td>\n",
       "      <td>116.0</td>\n",
       "    </tr>\n",
       "    <tr>\n",
       "      <th>16687</th>\n",
       "      <td>16687</td>\n",
       "      <td>16688</td>\n",
       "      <td>Kazaam</td>\n",
       "      <td>1996</td>\n",
       "      <td>7+</td>\n",
       "      <td>3.0</td>\n",
       "      <td>6.0</td>\n",
       "      <td>0</td>\n",
       "      <td>0</td>\n",
       "      <td>0</td>\n",
       "      <td>1</td>\n",
       "      <td>0</td>\n",
       "      <td>Paul Michael Glaser</td>\n",
       "      <td>Comedy,Family,Fantasy,Musical</td>\n",
       "      <td>United States</td>\n",
       "      <td>English</td>\n",
       "      <td>93.0</td>\n",
       "    </tr>\n",
       "    <tr>\n",
       "      <th>16705</th>\n",
       "      <td>16705</td>\n",
       "      <td>16706</td>\n",
       "      <td>Meet the Deedles</td>\n",
       "      <td>1998</td>\n",
       "      <td>7+</td>\n",
       "      <td>4.1</td>\n",
       "      <td>7.0</td>\n",
       "      <td>0</td>\n",
       "      <td>0</td>\n",
       "      <td>0</td>\n",
       "      <td>1</td>\n",
       "      <td>0</td>\n",
       "      <td>Steve Boyum</td>\n",
       "      <td>Comedy,Family</td>\n",
       "      <td>United States</td>\n",
       "      <td>English</td>\n",
       "      <td>93.0</td>\n",
       "    </tr>\n",
       "    <tr>\n",
       "      <th>16719</th>\n",
       "      <td>16719</td>\n",
       "      <td>16720</td>\n",
       "      <td>Pocahontas</td>\n",
       "      <td>1995</td>\n",
       "      <td>NaN</td>\n",
       "      <td>5.3</td>\n",
       "      <td>55.0</td>\n",
       "      <td>0</td>\n",
       "      <td>0</td>\n",
       "      <td>0</td>\n",
       "      <td>1</td>\n",
       "      <td>0</td>\n",
       "      <td>Mike Gabriel,Eric Goldberg</td>\n",
       "      <td>Animation,Adventure,Drama,Family,Musical,Romance</td>\n",
       "      <td>United States</td>\n",
       "      <td>English,Algonquin</td>\n",
       "      <td>81.0</td>\n",
       "    </tr>\n",
       "  </tbody>\n",
       "</table>\n",
       "<p>5158 rows × 17 columns</p>\n",
       "</div>"
      ],
      "text/plain": [
       "       Unnamed: 0     ID                           Title  Year  Age  IMDb  \\\n",
       "0               0      1                       Inception  2010  13+   8.8   \n",
       "1               1      2                      The Matrix  1999  18+   8.7   \n",
       "2               2      3          Avengers: Infinity War  2018  13+   8.5   \n",
       "3               3      4              Back to the Future  1985   7+   8.5   \n",
       "4               4      5  The Good, the Bad and the Ugly  1966  18+   8.8   \n",
       "...           ...    ...                             ...   ...  ...   ...   \n",
       "16671       16671  16672          George of the Jungle 2  2003   7+   3.3   \n",
       "16677       16677  16678                   That Darn Cat  1997   7+   4.7   \n",
       "16687       16687  16688                          Kazaam  1996   7+   3.0   \n",
       "16705       16705  16706                Meet the Deedles  1998   7+   4.1   \n",
       "16719       16719  16720                      Pocahontas  1995  NaN   5.3   \n",
       "\n",
       "       Rotten Tomatoes  Netflix  Hulu  Prime Video  Disney+  Type  \\\n",
       "0                 87.0        1     0            0        0     0   \n",
       "1                 87.0        1     0            0        0     0   \n",
       "2                 84.0        1     0            0        0     0   \n",
       "3                 96.0        1     0            0        0     0   \n",
       "4                 97.0        1     0            1        0     0   \n",
       "...                ...      ...   ...          ...      ...   ...   \n",
       "16671             17.0        0     0            0        1     0   \n",
       "16677             13.0        0     0            0        1     0   \n",
       "16687              6.0        0     0            0        1     0   \n",
       "16705              7.0        0     0            0        1     0   \n",
       "16719             55.0        0     0            0        1     0   \n",
       "\n",
       "                            Directors  \\\n",
       "0                   Christopher Nolan   \n",
       "1      Lana Wachowski,Lilly Wachowski   \n",
       "2             Anthony Russo,Joe Russo   \n",
       "3                     Robert Zemeckis   \n",
       "4                        Sergio Leone   \n",
       "...                               ...   \n",
       "16671                  David Grossman   \n",
       "16677                Robert Stevenson   \n",
       "16687             Paul Michael Glaser   \n",
       "16705                     Steve Boyum   \n",
       "16719      Mike Gabriel,Eric Goldberg   \n",
       "\n",
       "                                                 Genres  \\\n",
       "0                      Action,Adventure,Sci-Fi,Thriller   \n",
       "1                                         Action,Sci-Fi   \n",
       "2                               Action,Adventure,Sci-Fi   \n",
       "3                               Adventure,Comedy,Sci-Fi   \n",
       "4                                               Western   \n",
       "...                                                 ...   \n",
       "16671                           Adventure,Comedy,Family   \n",
       "16677                      Comedy,Crime,Family,Thriller   \n",
       "16687                     Comedy,Family,Fantasy,Musical   \n",
       "16705                                     Comedy,Family   \n",
       "16719  Animation,Adventure,Drama,Family,Musical,Romance   \n",
       "\n",
       "                            Country                 Language  Runtime  \n",
       "0      United States,United Kingdom  English,Japanese,French    148.0  \n",
       "1                     United States                  English    136.0  \n",
       "2                     United States                  English    149.0  \n",
       "3                     United States                  English    116.0  \n",
       "4          Italy,Spain,West Germany                  Italian    161.0  \n",
       "...                             ...                      ...      ...  \n",
       "16671       United States,Australia                  English     87.0  \n",
       "16677                 United States           English,French    116.0  \n",
       "16687                 United States                  English     93.0  \n",
       "16705                 United States                  English     93.0  \n",
       "16719                 United States        English,Algonquin     81.0  \n",
       "\n",
       "[5158 rows x 17 columns]"
      ]
     },
     "execution_count": 29,
     "metadata": {},
     "output_type": "execute_result"
    }
   ],
   "source": [
    "rt_df = df.dropna(how='any',subset=['Rotten Tomatoes'])\n",
    "rt_df['Rotten Tomatoes'] = rt_df['Rotten Tomatoes'].apply(lambda x: x.strip(\"%\")).astype(float)\n",
    "rt_df"
   ]
  },
  {
   "cell_type": "code",
   "execution_count": 35,
   "metadata": {},
   "outputs": [
    {
     "name": "stdout",
     "output_type": "stream",
     "text": [
      "The aveage IMDb score in Hulu is 66.87\n",
      "The aveage IMDb score in Netflix is 66.2\n",
      "p value =0.59042\n"
     ]
    },
    {
     "data": {
      "image/png": "[encoded data removed]",
      "text/plain": [
       "<Figure size 432x288 with 1 Axes>"
      ]
     },
     "metadata": {
      "needs_background": "light"
     },
     "output_type": "display_data"
    }
   ],
   "source": [
    "platform_list=['Hulu','Netflix']\n",
    "t_test=[]\n",
    "colors = ['pink','blue']\n",
    "i=0\n",
    "for platform in platform_list:\n",
    "    filt = (rt_df[platform]==1)\n",
    "    IMDb_list = list(rt_df['Rotten Tomatoes'].loc[filt])\n",
    "    ave_IMDb = round(rt_df['Rotten Tomatoes'].loc[filt].mean(),2)\n",
    "    print(f'The aveage IMDb score in {platform} is {ave_IMDb}')\n",
    "    t_test.append(IMDb_list)\n",
    "    plt.boxplot(IMDb_list,positions = [i],flierprops=dict(markerfacecolor=colors[i-1], marker='s'),boxprops=dict(facecolor=colors[i]), patch_artist=True)\n",
    "#     annotation='Ave score: '+str(ave_IMDb)\n",
    "#     plt.annotate(annotation,(i-0.2,7.5),size =12)\n",
    "    i = i+1\n",
    "p_value = round(st.ttest_ind(t_test[0], t_test[1], equal_var=False)[1],5)\n",
    "print(f'p value ={p_value}')\n",
    "x_axis = np.arange(len(platform_list))\n",
    "tick_locations = [value for value in x_axis]\n",
    "# annotation_p = \"p value: \" + str(p_value)\n",
    "# plt.annotate(annotation_p,(0.3,2),size =12)\n",
    "plt.xticks(tick_locations, platform_list)\n",
    "plt.xlabel('Platforms')\n",
    "plt.ylabel('Rotten Tomatoes(%)')\n",
    "plt.title(f'Rotten Tomatoes Score in Platforms')\n",
    "plt.savefig('nh_output/RT.png')\n",
    "plt.show()"
   ]
  },
  {
   "cell_type": "code",
   "execution_count": null,
   "metadata": {},
   "outputs": [],
   "source": []
  },
  {
   "cell_type": "code",
   "execution_count": null,
   "metadata": {},
   "outputs": [],
   "source": []
  },
  {
   "cell_type": "code",
   "execution_count": null,
   "metadata": {},
   "outputs": [],
   "source": []
  },
  {
   "cell_type": "code",
   "execution_count": 10,
   "metadata": {},
   "outputs": [
    {
     "data": {
      "text/html": [
       "<div>\n",
       "<style scoped>\n",
       "    .dataframe tbody tr th:only-of-type {\n",
       "        vertical-align: middle;\n",
       "    }\n",
       "\n",
       "    .dataframe tbody tr th {\n",
       "        vertical-align: top;\n",
       "    }\n",
       "\n",
       "    .dataframe thead th {\n",
       "        text-align: right;\n",
       "    }\n",
       "</style>\n",
       "<table border=\"1\" class=\"dataframe\">\n",
       "  <thead>\n",
       "    <tr style=\"text-align: right;\">\n",
       "      <th></th>\n",
       "      <th>IMDb</th>\n",
       "      <th>Rotten Tomatoes</th>\n",
       "    </tr>\n",
       "  </thead>\n",
       "  <tbody>\n",
       "    <tr>\n",
       "      <th>0</th>\n",
       "      <td>8.8</td>\n",
       "      <td>87.0</td>\n",
       "    </tr>\n",
       "    <tr>\n",
       "      <th>1</th>\n",
       "      <td>8.7</td>\n",
       "      <td>87.0</td>\n",
       "    </tr>\n",
       "    <tr>\n",
       "      <th>2</th>\n",
       "      <td>8.5</td>\n",
       "      <td>84.0</td>\n",
       "    </tr>\n",
       "    <tr>\n",
       "      <th>3</th>\n",
       "      <td>8.5</td>\n",
       "      <td>96.0</td>\n",
       "    </tr>\n",
       "    <tr>\n",
       "      <th>4</th>\n",
       "      <td>8.8</td>\n",
       "      <td>97.0</td>\n",
       "    </tr>\n",
       "    <tr>\n",
       "      <th>...</th>\n",
       "      <td>...</td>\n",
       "      <td>...</td>\n",
       "    </tr>\n",
       "    <tr>\n",
       "      <th>16671</th>\n",
       "      <td>3.3</td>\n",
       "      <td>17.0</td>\n",
       "    </tr>\n",
       "    <tr>\n",
       "      <th>16677</th>\n",
       "      <td>4.7</td>\n",
       "      <td>13.0</td>\n",
       "    </tr>\n",
       "    <tr>\n",
       "      <th>16687</th>\n",
       "      <td>3.0</td>\n",
       "      <td>6.0</td>\n",
       "    </tr>\n",
       "    <tr>\n",
       "      <th>16705</th>\n",
       "      <td>4.1</td>\n",
       "      <td>7.0</td>\n",
       "    </tr>\n",
       "    <tr>\n",
       "      <th>16719</th>\n",
       "      <td>5.3</td>\n",
       "      <td>55.0</td>\n",
       "    </tr>\n",
       "  </tbody>\n",
       "</table>\n",
       "<p>5156 rows × 2 columns</p>\n",
       "</div>"
      ],
      "text/plain": [
       "       IMDb  Rotten Tomatoes\n",
       "0       8.8             87.0\n",
       "1       8.7             87.0\n",
       "2       8.5             84.0\n",
       "3       8.5             96.0\n",
       "4       8.8             97.0\n",
       "...     ...              ...\n",
       "16671   3.3             17.0\n",
       "16677   4.7             13.0\n",
       "16687   3.0              6.0\n",
       "16705   4.1              7.0\n",
       "16719   5.3             55.0\n",
       "\n",
       "[5156 rows x 2 columns]"
      ]
     },
     "execution_count": 10,
     "metadata": {},
     "output_type": "execute_result"
    }
   ],
   "source": [
    "score_df = df[['IMDb','Rotten Tomatoes']].dropna(how='any')\n",
    "score_df['Rotten Tomatoes'] = score_df['Rotten Tomatoes'].apply(lambda x: x.strip(\"%\")).astype(float)\n",
    "score_df"
   ]
  },
  {
   "cell_type": "code",
   "execution_count": 37,
   "metadata": {},
   "outputs": [
    {
     "name": "stdout",
     "output_type": "stream",
     "text": [
      "the correlation (r) value  for two socre systems is 0.6163204883344221\n"
     ]
    },
    {
     "data": {
      "image/png": "[encoded data removed]",
      "text/plain": [
       "<Figure size 720x720 with 1 Axes>"
      ]
     },
     "metadata": {
      "needs_background": "light"
     },
     "output_type": "display_data"
    }
   ],
   "source": [
    "score_df.plot.scatter('IMDb','Rotten Tomatoes',figsize=(10,10))\n",
    "x_values = score_df['IMDb']\n",
    "y_values = score_df['Rotten Tomatoes']\n",
    "(m,b,r,p,sem) = st.linregress(x_values, y_values)\n",
    "regress_values = m*x_values+b\n",
    "plt.plot(x_values,regress_values,'r-')\n",
    "print(f'the correlation (r) value  for two socre systems is {r}')\n",
    "line = f'y={round(m,2)}x+{round(b,2)} (r-value = {round(r,2)})'\n",
    "plt.xlim(0,10)\n",
    "plt.ylim(0,110)\n",
    "plt.annotate(line,(1,105),fontsize=15)\n",
    "plt.savefig('nh_output/RT_IMDb.png')\n",
    "plt.show()"
   ]
  },
  {
   "cell_type": "code",
   "execution_count": null,
   "metadata": {},
   "outputs": [],
   "source": []
  },
  {
   "cell_type": "code",
   "execution_count": 12,
   "metadata": {},
   "outputs": [
    {
     "data": {
      "text/plain": [
       "[2264, 815]"
      ]
     },
     "execution_count": 12,
     "metadata": {},
     "output_type": "execute_result"
    }
   ],
   "source": [
    "clean_lang_df = df.dropna(subset=['Language'], how='any')\n",
    "clean_lang_df\n",
    "english_num = []\n",
    "lang_total_df = pd.DataFrame()\n",
    "platform_list = ['Netflix','Hulu']\n",
    "for platform in platform_list:\n",
    "    ds = clean_lang_df['Language'].loc[clean_lang_df[platform]==1]\n",
    "    language_list = list(ds)\n",
    "    language_splitted_list = []\n",
    "    for item in language_list:\n",
    "        x = item.split(',')\n",
    "        for i in x: \n",
    "            language_splitted_list.append(i)\n",
    "            num= pd.DataFrame({'language':language_splitted_list})['language'].value_counts()[0]\n",
    "    english_num.append(num)\n",
    "english_num  "
   ]
  },
  {
   "cell_type": "code",
   "execution_count": 13,
   "metadata": {},
   "outputs": [
    {
     "data": {
      "text/plain": [
       "['63.6%', '90.3%']"
      ]
     },
     "execution_count": 13,
     "metadata": {},
     "output_type": "execute_result"
    }
   ],
   "source": [
    "platform_num = df[['Netflix','Hulu']].sum()\n",
    "english_num_pct = np.array(english_num)/np.array(platform_num)\n",
    "english_num_pct = [\"{:.1%}\".format(number) for number in english_num_pct]\n",
    "english_num_pct"
   ]
  },
  {
   "cell_type": "code",
   "execution_count": 53,
   "metadata": {},
   "outputs": [
    {
     "data": {
      "image/png": "[encoded data removed]",
      "text/plain": [
       "<Figure size 432x288 with 1 Axes>"
      ]
     },
     "metadata": {
      "needs_background": "light"
     },
     "output_type": "display_data"
    }
   ],
   "source": [
    "plt.bar(platform_list,list(platform_num),color = 'green',alpha = 0.5,label='Non-English')\n",
    "plt.bar(platform_list,english_num,color = 'purple',alpha = 0.5,label='English')\n",
    "plt.xlabel('Platform')\n",
    "plt.ylabel('Number of Videos')\n",
    "plt.legend(loc ='upper left')\n",
    "plt.title('Number of Videos in Popular Online Platforms')\n",
    "for i in range(2):\n",
    "    plt.annotate(english_num_pct[i],(-0.1+i,platform_num[i]+200),color='blue')\n",
    "plt.ylim(0,6000)\n",
    "plt.savefig('nh_output/english.png')\n",
    "plt.show()"
   ]
  },
  {
   "cell_type": "code",
   "execution_count": 50,
   "metadata": {},
   "outputs": [
    {
     "name": "stdout",
     "output_type": "stream",
     "text": [
      "The aveage IMDb score in Hulu is 6.09\n",
      "The aveage IMDb score in Netflix is 6.26\n",
      "p value =0.00022\n"
     ]
    },
    {
     "data": {
      "image/png": "[encoded data removed]",
      "text/plain": [
       "<Figure size 432x288 with 1 Axes>"
      ]
     },
     "metadata": {
      "needs_background": "light"
     },
     "output_type": "display_data"
    }
   ],
   "source": [
    "imdb_df = df.dropna(how='any',subset=['IMDb'])\n",
    "platform_list=['Hulu','Netflix']\n",
    "t_test=[]\n",
    "colors = ['pink','blue']\n",
    "i=0\n",
    "for platform in platform_list:\n",
    "    filt = (imdb_df[platform]==1)&(imdb_df['Language'].str.contains('English'))\n",
    "    IMDb_list = list(imdb_df['IMDb'].loc[filt])\n",
    "    ave_IMDb = round(imdb_df['IMDb'].loc[filt].mean(),2)\n",
    "    print(f'The aveage IMDb score in {platform} is {ave_IMDb}')\n",
    "    t_test.append(IMDb_list)\n",
    "    plt.boxplot(IMDb_list,positions = [i],flierprops=dict(markerfacecolor=colors[i-1], marker='s'),boxprops=dict(facecolor=colors[i]), patch_artist=True)\n",
    "#     annotation='Ave score: '+str(ave_IMDb)\n",
    "#     plt.annotate(annotation,(i-0.2,7.5),size =12)\n",
    "    i = i+1\n",
    "p_value = round(st.ttest_ind(t_test[0], t_test[1], equal_var=False)[1],5)\n",
    "print(f'p value ={p_value}')\n",
    "x_axis = np.arange(len(platform_list))\n",
    "tick_locations = [value for value in x_axis]\n",
    "# annotation_p = \"p value: \" + str(p_value)\n",
    "# plt.annotate(annotation_p,(0.3,2),size =12)\n",
    "plt.xticks(tick_locations, platform_list)\n",
    "plt.xlabel('Platforms')\n",
    "plt.ylabel('IMDb')\n",
    "plt.title(f'IMDb Score of English shows in Platforms')\n",
    "plt.show()"
   ]
  },
  {
   "cell_type": "code",
   "execution_count": 16,
   "metadata": {},
   "outputs": [
    {
     "data": {
      "text/plain": [
       "[1700, 668]"
      ]
     },
     "execution_count": 16,
     "metadata": {},
     "output_type": "execute_result"
    }
   ],
   "source": [
    "clean_country_df = df.dropna(subset=['Country'], how='any')\n",
    "clean_country_df\n",
    "us_num = []\n",
    "country_total_df = pd.DataFrame()\n",
    "platform_list = ['Netflix','Hulu']\n",
    "for platform in platform_list:\n",
    "    ds = clean_country_df['Country'].loc[clean_country_df[platform]==1]\n",
    "    country_list = list(ds)\n",
    "    country_splitted_list = []\n",
    "    for item in country_list:\n",
    "        x = item.split(',')\n",
    "        for i in x: \n",
    "            country_splitted_list.append(i)\n",
    "            num= pd.DataFrame({'Country':country_splitted_list})['Country'].value_counts()[0]\n",
    "    us_num.append(num)\n",
    "us_num"
   ]
  },
  {
   "cell_type": "code",
   "execution_count": 17,
   "metadata": {},
   "outputs": [
    {
     "data": {
      "text/plain": [
       "['47.8%', '74.0%']"
      ]
     },
     "execution_count": 17,
     "metadata": {},
     "output_type": "execute_result"
    }
   ],
   "source": [
    "platform_num = df[['Netflix','Hulu']].sum()\n",
    "us_num_pct = np.array(us_num)/np.array(platform_num)\n",
    "us_num_pct = [\"{:.1%}\".format(number) for number in us_num_pct]\n",
    "us_num_pct"
   ]
  },
  {
   "cell_type": "code",
   "execution_count": 54,
   "metadata": {},
   "outputs": [
    {
     "data": {
      "image/png": "[encoded data removed]",
      "text/plain": [
       "<Figure size 432x288 with 1 Axes>"
      ]
     },
     "metadata": {
      "needs_background": "light"
     },
     "output_type": "display_data"
    }
   ],
   "source": [
    "plt.bar(platform_list,list(platform_num),color = 'green',alpha = 0.5,label='foreign countries')\n",
    "plt.bar(platform_list,us_num,color = 'purple',alpha = 0.5,label='United States')\n",
    "plt.xlabel('Platform')\n",
    "plt.ylabel('Number of Videos')\n",
    "plt.legend(loc ='upper left')\n",
    "plt.title('Number of Videos in Popular Online Platforms')\n",
    "for i in range(2):\n",
    "    plt.annotate(us_num_pct[i],(-0.1+i,platform_num[i]+200),color='blue')\n",
    "plt.ylim(0,6000)\n",
    "plt.savefig('nh_output/country.png')\n",
    "plt.show()"
   ]
  },
  {
   "cell_type": "code",
   "execution_count": 55,
   "metadata": {},
   "outputs": [
    {
     "name": "stdout",
     "output_type": "stream",
     "text": [
      "The aveage IMDb score in Hulu is 6.12\n",
      "The aveage IMDb score in Netflix is 6.25\n",
      "p value =0.00567\n"
     ]
    },
    {
     "data": {
      "image/png": "[encoded data removed]",
      "text/plain": [
       "<Figure size 432x288 with 1 Axes>"
      ]
     },
     "metadata": {
      "needs_background": "light"
     },
     "output_type": "display_data"
    }
   ],
   "source": [
    "imdb_df = df.dropna(how='any',subset=['IMDb'])\n",
    "platform_list=['Hulu','Netflix']\n",
    "t_test=[]\n",
    "colors = ['pink','blue']\n",
    "i=0\n",
    "for platform in platform_list:\n",
    "    filt = (imdb_df[platform]==1)&(imdb_df['Country'].str.contains('United States'))\n",
    "    IMDb_list = list(imdb_df['IMDb'].loc[filt])\n",
    "    ave_IMDb = round(imdb_df['IMDb'].loc[filt].mean(),2)\n",
    "    print(f'The aveage IMDb score in {platform} is {ave_IMDb}')\n",
    "    t_test.append(IMDb_list)\n",
    "    plt.boxplot(IMDb_list,positions = [i],flierprops=dict(markerfacecolor=colors[i-1], marker='s'),boxprops=dict(facecolor=colors[i]), patch_artist=True)\n",
    "    i = i+1\n",
    "p_value = round(st.ttest_ind(t_test[0], t_test[1], equal_var=False)[1],5)\n",
    "print(f'p value ={p_value}')\n",
    "x_axis = np.arange(len(platform_list))\n",
    "tick_locations = [value for value in x_axis]\n",
    "plt.xticks(tick_locations, platform_list)\n",
    "plt.xlabel('Platforms')\n",
    "plt.ylabel('IMDb')\n",
    "plt.title(f'IMDb Score of United States Videos in Platforms')\n",
    "plt.show()"
   ]
  },
  {
   "cell_type": "code",
   "execution_count": 56,
   "metadata": {},
   "outputs": [
    {
     "data": {
      "image/png": "[encoded data removed]",
      "text/plain": [
       "<Figure size 432x288 with 1 Axes>"
      ]
     },
     "metadata": {
      "needs_background": "light"
     },
     "output_type": "display_data"
    }
   ],
   "source": [
    "\n",
    "age_df = df.groupby('Age')[platform_list].sum()\n",
    "nh_age_df = age_df[['Netflix','Hulu']]\n",
    "nh_age_df.T.plot.barh()\n",
    "plt.savefig('nh_output/age.png')\n",
    "plt.show()"
   ]
  },
  {
   "cell_type": "code",
   "execution_count": null,
   "metadata": {},
   "outputs": [],
   "source": []
  },
  {
   "cell_type": "code",
   "execution_count": 57,
   "metadata": {
    "scrolled": true
   },
   "outputs": [
    {
     "data": {
      "image/png": "[encoded data removed]",
      "text/plain": [
       "<Figure size 432x288 with 1 Axes>"
      ]
     },
     "metadata": {
      "needs_background": "light"
     },
     "output_type": "display_data"
    }
   ],
   "source": [
    "plt.bar(platform_list,list(platform_num),color = 'green',alpha = 0.5,label='Age_Grouped')\n",
    "plt.bar(platform_list,nh_age_df.T['Not Mentioned'],color = 'purple',alpha = 0.5,label='Not_Mentioned')\n",
    "plt.xlabel('Platform')\n",
    "plt.ylabel('Number of Videos')\n",
    "plt.legend(loc ='upper left')\n",
    "plt.title('Number of Videos in Popular Online Platforms')\n",
    "for i in range(2):\n",
    "    plt.annotate(english_num_pct[i],(-0.1+i,platform_num[i]+200),color='blue')\n",
    "plt.ylim(0,6000)\n",
    "plt.savefig('nh_output/age1.png')\n",
    "plt.show()"
   ]
  },
  {
   "cell_type": "code",
   "execution_count": 22,
   "metadata": {},
   "outputs": [
    {
     "data": {
      "text/html": [
       "<div>\n",
       "<style scoped>\n",
       "    .dataframe tbody tr th:only-of-type {\n",
       "        vertical-align: middle;\n",
       "    }\n",
       "\n",
       "    .dataframe tbody tr th {\n",
       "        vertical-align: top;\n",
       "    }\n",
       "\n",
       "    .dataframe thead th {\n",
       "        text-align: right;\n",
       "    }\n",
       "</style>\n",
       "<table border=\"1\" class=\"dataframe\">\n",
       "  <thead>\n",
       "    <tr style=\"text-align: right;\">\n",
       "      <th>Age</th>\n",
       "      <th>all</th>\n",
       "      <th>7+</th>\n",
       "      <th>13+</th>\n",
       "      <th>16+</th>\n",
       "      <th>18+</th>\n",
       "    </tr>\n",
       "  </thead>\n",
       "  <tbody>\n",
       "    <tr>\n",
       "      <th>Netflix</th>\n",
       "      <td>130</td>\n",
       "      <td>323</td>\n",
       "      <td>383</td>\n",
       "      <td>89</td>\n",
       "      <td>752</td>\n",
       "    </tr>\n",
       "    <tr>\n",
       "      <th>Hulu</th>\n",
       "      <td>55</td>\n",
       "      <td>109</td>\n",
       "      <td>119</td>\n",
       "      <td>17</td>\n",
       "      <td>290</td>\n",
       "    </tr>\n",
       "  </tbody>\n",
       "</table>\n",
       "</div>"
      ],
      "text/plain": [
       "Age      all   7+  13+  16+  18+\n",
       "Netflix  130  323  383   89  752\n",
       "Hulu      55  109  119   17  290"
      ]
     },
     "execution_count": 22,
     "metadata": {},
     "output_type": "execute_result"
    }
   ],
   "source": [
    "nh_age_df2 = nh_age_df.T[['all','7+','13+','16+','18+']]\n",
    "nh_age_df2 "
   ]
  },
  {
   "cell_type": "code",
   "execution_count": 23,
   "metadata": {},
   "outputs": [
    {
     "data": {
      "image/png": "[encoded data removed]",
      "text/plain": [
       "<Figure size 432x288 with 1 Axes>"
      ]
     },
     "metadata": {
      "needs_background": "light"
     },
     "output_type": "display_data"
    }
   ],
   "source": [
    "nh_age_df2.plot.barh()\n",
    "plt.show()"
   ]
  },
  {
   "cell_type": "code",
   "execution_count": 24,
   "metadata": {},
   "outputs": [
    {
     "data": {
      "text/html": [
       "<div>\n",
       "<style scoped>\n",
       "    .dataframe tbody tr th:only-of-type {\n",
       "        vertical-align: middle;\n",
       "    }\n",
       "\n",
       "    .dataframe tbody tr th {\n",
       "        vertical-align: top;\n",
       "    }\n",
       "\n",
       "    .dataframe thead th {\n",
       "        text-align: right;\n",
       "    }\n",
       "</style>\n",
       "<table border=\"1\" class=\"dataframe\">\n",
       "  <thead>\n",
       "    <tr style=\"text-align: right;\">\n",
       "      <th></th>\n",
       "      <th>IMDb</th>\n",
       "      <th>IMDb</th>\n",
       "    </tr>\n",
       "    <tr>\n",
       "      <th>Age</th>\n",
       "      <th></th>\n",
       "      <th></th>\n",
       "    </tr>\n",
       "  </thead>\n",
       "  <tbody>\n",
       "    <tr>\n",
       "      <th>13+</th>\n",
       "      <td>6.40</td>\n",
       "      <td>6.55</td>\n",
       "    </tr>\n",
       "    <tr>\n",
       "      <th>16+</th>\n",
       "      <td>6.50</td>\n",
       "      <td>5.10</td>\n",
       "    </tr>\n",
       "    <tr>\n",
       "      <th>18+</th>\n",
       "      <td>6.30</td>\n",
       "      <td>6.20</td>\n",
       "    </tr>\n",
       "    <tr>\n",
       "      <th>7+</th>\n",
       "      <td>6.20</td>\n",
       "      <td>6.40</td>\n",
       "    </tr>\n",
       "    <tr>\n",
       "      <th>all</th>\n",
       "      <td>6.25</td>\n",
       "      <td>5.80</td>\n",
       "    </tr>\n",
       "  </tbody>\n",
       "</table>\n",
       "</div>"
      ],
      "text/plain": [
       "     IMDb  IMDb\n",
       "Age            \n",
       "13+  6.40  6.55\n",
       "16+  6.50  5.10\n",
       "18+  6.30  6.20\n",
       "7+   6.20  6.40\n",
       "all  6.25  5.80"
      ]
     },
     "execution_count": 24,
     "metadata": {},
     "output_type": "execute_result"
    }
   ],
   "source": [
    "age_n_ds = imdb_df[imdb_df['Netflix']==1].groupby('Age')['IMDb'].median()\n",
    "age_h_ds = imdb_df[imdb_df['Hulu']==1].groupby('Age')['IMDb'].median()\n",
    "pd.concat([age_n_ds,age_h_ds],axis=1)"
   ]
  },
  {
   "cell_type": "code",
   "execution_count": 25,
   "metadata": {},
   "outputs": [
    {
     "name": "stdout",
     "output_type": "stream",
     "text": [
      "The aveage IMDb score of 13+ in Hulu is 6.43\n",
      "The aveage IMDb score of 13+ in Netflix is 6.35\n",
      "p value =0.45393\n"
     ]
    },
    {
     "data": {
      "image/png": "[encoded data removed]",
      "text/plain": [
       "<Figure size 432x288 with 1 Axes>"
      ]
     },
     "metadata": {
      "needs_background": "light"
     },
     "output_type": "display_data"
    },
    {
     "name": "stdout",
     "output_type": "stream",
     "text": [
      "The aveage IMDb score of 16+ in Hulu is 5.41\n",
      "The aveage IMDb score of 16+ in Netflix is 6.32\n",
      "p value =0.00948\n"
     ]
    },
    {
     "data": {
      "image/png": "[encoded data removed]",
      "text/plain": [
       "<Figure size 432x288 with 1 Axes>"
      ]
     },
     "metadata": {
      "needs_background": "light"
     },
     "output_type": "display_data"
    },
    {
     "name": "stdout",
     "output_type": "stream",
     "text": [
      "The aveage IMDb score of 18+ in Hulu is 6.18\n",
      "The aveage IMDb score of 18+ in Netflix is 6.29\n",
      "p value =0.13859\n"
     ]
    },
    {
     "data": {
      "image/png": "[encoded data removed]",
      "text/plain": [
       "<Figure size 432x288 with 1 Axes>"
      ]
     },
     "metadata": {
      "needs_background": "light"
     },
     "output_type": "display_data"
    },
    {
     "name": "stdout",
     "output_type": "stream",
     "text": [
      "The aveage IMDb score of 7+ in Hulu is 6.29\n",
      "The aveage IMDb score of 7+ in Netflix is 6.2\n",
      "p value =0.51041\n"
     ]
    },
    {
     "data": {
      "image/png": "[encoded data removed]",
      "text/plain": [
       "<Figure size 432x288 with 1 Axes>"
      ]
     },
     "metadata": {
      "needs_background": "light"
     },
     "output_type": "display_data"
    },
    {
     "name": "stdout",
     "output_type": "stream",
     "text": [
      "The aveage IMDb score of all in Hulu is 5.91\n",
      "The aveage IMDb score of all in Netflix is 6.28\n",
      "p value =0.03465\n"
     ]
    },
    {
     "data": {
      "image/png": "[encoded data removed]",
      "text/plain": [
       "<Figure size 432x288 with 1 Axes>"
      ]
     },
     "metadata": {
      "needs_background": "light"
     },
     "output_type": "display_data"
    }
   ],
   "source": [
    "age_list = age_n_ds.index\n",
    "for age in age_list:\n",
    "    colors = ['pink','blue']\n",
    "    IMDb_list = []\n",
    "    platform_list=['Hulu','Netflix']\n",
    "    t_test = []\n",
    "    i=0\n",
    "    for platform in platform_list:\n",
    "        filt = (imdb_df[platform]==1)&(imdb_df['Age']==age)\n",
    "        IMDb_list = list(imdb_df['IMDb'].loc[filt])\n",
    "        ave_IMDb = round(imdb_df['IMDb'].loc[filt].mean(),2)\n",
    "        print(f'The aveage IMDb score of {age} in {platform} is {ave_IMDb}')\n",
    "        t_test.append(IMDb_list)\n",
    "        plt.boxplot(IMDb_list,positions = [i],flierprops=dict(markerfacecolor=colors[i-1], marker='s'),boxprops=dict(facecolor=colors[i]), patch_artist=True)\n",
    "        i = i+1\n",
    "    p_value = round(st.ttest_ind(t_test[0], t_test[1], equal_var=False)[1],5)\n",
    "    print(f'p value ={p_value}')\n",
    "    x_axis = np.arange(len(platform_list))\n",
    "    tick_locations = [value for value in x_axis]\n",
    "    plt.xticks(tick_locations, platform_list)\n",
    "    plt.xlabel('Platforms')\n",
    "    plt.ylabel('IMDb')\n",
    "    plt.title(f'IMDb Score of Age Group {age} in Platforms')\n",
    "    plt.show()"
   ]
  },
  {
   "cell_type": "code",
   "execution_count": 26,
   "metadata": {},
   "outputs": [
    {
     "data": {
      "text/plain": [
       "Index(['Unnamed: 0', 'ID', 'Title', 'Year', 'Age', 'IMDb', 'Rotten Tomatoes',\n",
       "       'Netflix', 'Hulu', 'Prime Video', 'Disney+', 'Type', 'Directors',\n",
       "       'Genres', 'Country', 'Language', 'Runtime'],\n",
       "      dtype='object')"
      ]
     },
     "execution_count": 26,
     "metadata": {},
     "output_type": "execute_result"
    }
   ],
   "source": [
    "df = pd.read_csv('MoviesOnStreamingPlatforms_updated.csv')\n",
    "df.columns"
   ]
  },
  {
   "cell_type": "code",
   "execution_count": null,
   "metadata": {},
   "outputs": [],
   "source": []
  },
  {
   "cell_type": "code",
   "execution_count": null,
   "metadata": {},
   "outputs": [],
   "source": []
  },
  {
   "cell_type": "code",
   "execution_count": null,
   "metadata": {},
   "outputs": [],
   "source": []
  },
  {
   "cell_type": "code",
   "execution_count": null,
   "metadata": {},
   "outputs": [],
   "source": []
  },
  {
   "cell_type": "code",
   "execution_count": null,
   "metadata": {},
   "outputs": [],
   "source": []
  },
  {
   "cell_type": "code",
   "execution_count": null,
   "metadata": {},
   "outputs": [],
   "source": []
  },
  {
   "cell_type": "code",
   "execution_count": null,
   "metadata": {},
   "outputs": [],
   "source": []
  }
 ],
 "metadata": {
  "kernelspec": {
   "display_name": "Python 3",
   "language": "python",
   "name": "python3"
  },
  "language_info": {
   "codemirror_mode": {
    "name": "ipython",
    "version": 3
   },
   "file_extension": ".py",
   "mimetype": "text/x-python",
   "name": "python",
   "nbconvert_exporter": "python",
   "pygments_lexer": "ipython3",
   "version": "3.8.3"
  }
 },
 "nbformat": 4,
 "nbformat_minor": 4
}
