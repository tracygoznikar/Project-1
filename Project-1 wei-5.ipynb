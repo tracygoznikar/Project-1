{
 "cells": [
  {
   "cell_type": "code",
   "execution_count": 1,
   "metadata": {},
   "outputs": [],
   "source": [
    "import pandas as pd\n",
    "import numpy as np\n",
    "import matplotlib.pyplot as plt\n",
    "import  scipy.stats as st\n",
    "import requests\n",
    "import json\n",
    "import gmaps"
   ]
  },
  {
   "cell_type": "code",
   "execution_count": 2,
   "metadata": {},
   "outputs": [],
   "source": [
    "#load the csv file\n",
    "df = pd.read_csv('MoviesOnStreamingPlatforms_updated.csv')"
   ]
  },
  {
   "cell_type": "code",
   "execution_count": 3,
   "metadata": {},
   "outputs": [
    {
     "data": {
      "text/plain": [
       "Index(['Netflix', 'Hulu', 'Prime Video', 'Disney+'], dtype='object')"
      ]
     },
     "execution_count": 3,
     "metadata": {},
     "output_type": "execute_result"
    }
   ],
   "source": [
    "platform_num = df.iloc[:,7:11].sum()\n",
    "platform_list = platform_num.index\n",
    "platform_list "
   ]
  },
  {
   "cell_type": "code",
   "execution_count": 4,
   "metadata": {},
   "outputs": [],
   "source": [
    "country_df = df.dropna(how='any',subset=['Country'])"
   ]
  },
  {
   "cell_type": "code",
   "execution_count": 5,
   "metadata": {},
   "outputs": [],
   "source": [
    "d_country_df = country_df[country_df['Disney+']==1]"
   ]
  },
  {
   "cell_type": "code",
   "execution_count": 6,
   "metadata": {},
   "outputs": [],
   "source": [
    "series = pd.Series\n",
    "d_country_list = d_country_df['Country'].str.split(',').apply(series, 1).stack()"
   ]
  },
  {
   "cell_type": "code",
   "execution_count": 7,
   "metadata": {},
   "outputs": [],
   "source": [
    "d_country_summary = d_country_list.value_counts()\n",
    "del d_country_summary['United States']"
   ]
  },
  {
   "cell_type": "code",
   "execution_count": 8,
   "metadata": {},
   "outputs": [
    {
     "data": {
      "text/plain": [
       "Index(['United Kingdom', 'Canada', 'Australia', 'France', 'India',\n",
       "       'New Zealand', 'China', 'Mexico', 'Ireland', 'Japan', 'Germany',\n",
       "       'Malaysia', 'Hungary', 'Poland', 'Taiwan', 'Hong Kong',\n",
       "       'Czech Republic', 'Namibia', 'Botswana', 'South Africa', 'Egypt',\n",
       "       'Sweden', 'Singapore', 'Denmark', 'South Korea', 'Russia', 'Kazakhstan',\n",
       "       'Norway', 'Pakistan', 'Panama', 'Angola', 'Spain', 'Italy', 'Syria',\n",
       "       'Tanzania', 'Greece', 'Slovenia', 'Iran'],\n",
       "      dtype='object')"
      ]
     },
     "execution_count": 8,
     "metadata": {},
     "output_type": "execute_result"
    }
   ],
   "source": [
    "non_us_d_list = d_country_summary.index\n",
    "non_us_d_num = list(d_country_summary)\n",
    "non_us_d_list"
   ]
  },
  {
   "cell_type": "code",
   "execution_count": 9,
   "metadata": {},
   "outputs": [
    {
     "name": "stdout",
     "output_type": "stream",
     "text": [
      "38\n",
      "38\n",
      "38\n"
     ]
    }
   ],
   "source": [
    "# Google developer API key\n",
    "from config import gkey\n",
    "coordinates=[]\n",
    "country_names = []\n",
    "movie_num = []\n",
    "i=0\n",
    "for country in non_us_d_list:\n",
    "    \n",
    "    try:\n",
    "        target_url = ('https://maps.googleapis.com/maps/api/geocode/json?'\n",
    "            'address={0}&key={1}').format(country, gkey)\n",
    "        geo_data = requests.get(target_url).json()\n",
    "        lat = geo_data[\"results\"][0][\"geometry\"][\"location\"][\"lat\"]\n",
    "        lng = geo_data[\"results\"][0][\"geometry\"][\"location\"][\"lng\"]\n",
    "        country_name = geo_data[\"results\"][0]['address_components'][0]['long_name']\n",
    "        country_names.append(country_name)\n",
    "        coordinate = (lat,lng)\n",
    "        coordinates.append(coordinate)\n",
    "        movie_num.append(non_us_d_num[i])\n",
    "    except (IndexError):\n",
    "        pass\n",
    "    i=i+1\n",
    "print(len(coordinates))\n",
    "print(len(movie_num))\n",
    "print(len(country_names))"
   ]
  },
  {
   "cell_type": "code",
   "execution_count": 10,
   "metadata": {},
   "outputs": [
    {
     "name": "stderr",
     "output_type": "stream",
     "text": [
      "Enabling notebook extension jupyter-gmaps/extension...\n",
      "      - Validating: ok\n",
      "Enabling notebook extension jupyter-js-widgets/extension...\n",
      "      - Validating: ok\n"
     ]
    }
   ],
   "source": [
    "# enable the display gmap\n",
    "!jupyter nbextension enable --py gmaps\n",
    "!jupyter nbextension enable --py widgetsnbextension"
   ]
  },
  {
   "cell_type": "code",
   "execution_count": 11,
   "metadata": {},
   "outputs": [
    {
     "data": {
      "application/vnd.jupyter.widget-view+json": {
       "model_id": "51cb0e5ae1f14eb3906642ecb5641aa5",
       "version_major": 2,
       "version_minor": 0
      },
      "text/plain": [
       "Figure(layout=FigureLayout(border='1px solid black', height='600px', margin='0 auto 0 auto', padding='1px', wi…"
      ]
     },
     "metadata": {},
     "output_type": "display_data"
    }
   ],
   "source": [
    "# Access maps with unique API key\n",
    "gmaps.configure(api_key=gkey)\n",
    "#set up the figure layout\n",
    "figure_layout = {\n",
    "    'width': '800px',\n",
    "    'height': '600px',\n",
    "    'border': '1px solid black',\n",
    "    'padding': '1px',\n",
    "    'margin': '0 auto 0 auto'\n",
    "}\n",
    "fig = gmaps.figure(layout=figure_layout)\n",
    "#set up the heatmap layer based on the coordinates and humunity\n",
    "heatmap = gmaps.heatmap_layer(coordinates,weights=movie_num,dissipating=False)\n",
    "#add the heatlayer\n",
    "fig.add_layer(heatmap)\n",
    "#show the fig\n",
    "fig"
   ]
  },
  {
   "cell_type": "code",
   "execution_count": null,
   "metadata": {},
   "outputs": [],
   "source": []
  },
  {
   "cell_type": "code",
   "execution_count": 12,
   "metadata": {},
   "outputs": [],
   "source": [
    "n_country_df = country_df[country_df['Netflix']==1]"
   ]
  },
  {
   "cell_type": "code",
   "execution_count": 13,
   "metadata": {},
   "outputs": [],
   "source": [
    "series = pd.Series\n",
    "n_country_list = n_country_df['Country'].str.split(',').apply(series, 1).stack()"
   ]
  },
  {
   "cell_type": "code",
   "execution_count": 14,
   "metadata": {},
   "outputs": [],
   "source": [
    "n_country_summary = n_country_list.value_counts()\n",
    "del n_country_summary['United States']"
   ]
  },
  {
   "cell_type": "code",
   "execution_count": 15,
   "metadata": {},
   "outputs": [
    {
     "data": {
      "text/plain": [
       "Index(['India', 'United Kingdom', 'Canada', 'France', 'Spain', 'Germany',\n",
       "       'Japan', 'Hong Kong', 'Mexico', 'China', 'Turkey', 'Australia', 'Italy',\n",
       "       'Argentina', 'Belgium', 'Indonesia', 'Philippines', 'Egypt', 'Thailand',\n",
       "       'South Korea', 'Brazil', 'United Arab Emirates', 'Denmark',\n",
       "       'South Africa', 'Nigeria', 'Ireland', 'Sweden', 'Netherlands',\n",
       "       'Pakistan', 'Poland', 'New Zealand', 'Israel', 'Norway', 'Colombia',\n",
       "       'Chile', 'Singapore', 'Malaysia', 'Peru', 'Taiwan', 'Switzerland',\n",
       "       'Romania', 'Uruguay', 'Russia', 'Finland', 'Bulgaria', 'Qatar',\n",
       "       'Hungary', 'Austria', 'Jordan', 'Luxembourg', 'Morocco', 'Portugal',\n",
       "       'Cambodia', 'Czech Republic', 'Serbia', 'West Germany', 'Lebanon',\n",
       "       'Soviet Union', 'Iceland', 'Slovenia', 'Croatia', 'Saudi Arabia',\n",
       "       'Greece', 'Ukraine', 'Ghana', 'Georgia', 'Cayman Islands', 'Iran',\n",
       "       'Senegal', 'Bangladesh', 'Namibia', 'Zimbabwe', 'Paraguay', 'Iraq',\n",
       "       'Malawi', 'Kazakhstan', 'East Germany', 'Lithuania', 'Malta', 'Nepal',\n",
       "       'Ecuador', 'Latvia', 'Libya', 'Jamaica', 'Congo', 'Bermuda', 'Uganda',\n",
       "       'Holy See (Vatican City State)', 'Korea', 'Liberia', 'Albania',\n",
       "       'Sri Lanka', 'Bolivia', 'Kenya', 'Panama', 'Montenegro', 'Kuwait'],\n",
       "      dtype='object')"
      ]
     },
     "execution_count": 15,
     "metadata": {},
     "output_type": "execute_result"
    }
   ],
   "source": [
    "non_us_n_list = n_country_summary.index\n",
    "non_us_n_num = list(n_country_summary)\n",
    "non_us_n_list"
   ]
  },
  {
   "cell_type": "code",
   "execution_count": 16,
   "metadata": {},
   "outputs": [
    {
     "name": "stdout",
     "output_type": "stream",
     "text": [
      "95\n",
      "95\n",
      "95\n"
     ]
    }
   ],
   "source": [
    "# Google developer API key\n",
    "from config import gkey\n",
    "coordinates=[]\n",
    "country_names = []\n",
    "movie_num = []\n",
    "i=0\n",
    "for country in non_us_n_list:\n",
    "    \n",
    "    try:\n",
    "        target_url = ('https://maps.googleapis.com/maps/api/geocode/json?'\n",
    "            'address={0}&key={1}').format(country, gkey)\n",
    "        geo_data = requests.get(target_url).json()\n",
    "        lat = geo_data[\"results\"][0][\"geometry\"][\"location\"][\"lat\"]\n",
    "        lng = geo_data[\"results\"][0][\"geometry\"][\"location\"][\"lng\"]\n",
    "        country_name = geo_data[\"results\"][0]['address_components'][0]['long_name']\n",
    "        country_names.append(country_name)\n",
    "        coordinate = (lat,lng)\n",
    "        coordinates.append(coordinate)\n",
    "        movie_num.append(non_us_n_num[i])\n",
    "    except (IndexError):\n",
    "        pass\n",
    "    i=i+1\n",
    "print(len(coordinates))\n",
    "print(len(movie_num))\n",
    "print(len(country_names))"
   ]
  },
  {
   "cell_type": "code",
   "execution_count": 17,
   "metadata": {},
   "outputs": [
    {
     "data": {
      "text/plain": [
       "'China'"
      ]
     },
     "execution_count": 17,
     "metadata": {},
     "output_type": "execute_result"
    }
   ],
   "source": [
    "target_url = ('https://maps.googleapis.com/maps/api/geocode/json?'\n",
    "        'address={0}&key={1}').format('China', gkey)\n",
    "geo_data = requests.get(target_url).json()\n",
    "geo_data[\"results\"][0]['address_components'][0]['long_name']"
   ]
  },
  {
   "cell_type": "code",
   "execution_count": 18,
   "metadata": {},
   "outputs": [
    {
     "name": "stderr",
     "output_type": "stream",
     "text": [
      "Enabling notebook extension jupyter-gmaps/extension...\n",
      "      - Validating: ok\n",
      "Enabling notebook extension jupyter-js-widgets/extension...\n",
      "      - Validating: ok\n"
     ]
    }
   ],
   "source": [
    "# enable the display gmap\n",
    "!jupyter nbextension enable --py gmaps\n",
    "!jupyter nbextension enable --py widgetsnbextension"
   ]
  },
  {
   "cell_type": "code",
   "execution_count": null,
   "metadata": {},
   "outputs": [],
   "source": []
  },
  {
   "cell_type": "code",
   "execution_count": 20,
   "metadata": {},
   "outputs": [
    {
     "data": {
      "application/vnd.jupyter.widget-view+json": {
       "model_id": "d033e1351c77466699d6aa91e813cf27",
       "version_major": 2,
       "version_minor": 0
      },
      "text/plain": [
       "Figure(layout=FigureLayout(border='1px solid black', height='600px', margin='0 auto 0 auto', padding='1px', wi…"
      ]
     },
     "metadata": {},
     "output_type": "display_data"
    }
   ],
   "source": [
    "# Access maps with unique API key\n",
    "gmaps.configure(api_key=gkey)\n",
    "#set up the figure layout\n",
    "figure_layout = {\n",
    "    'width': '800px',\n",
    "    'height': '600px',\n",
    "    'border': '1px solid black',\n",
    "    'padding': '1px',\n",
    "    'margin': '0 auto 0 auto'\n",
    "}\n",
    "fig = gmaps.figure(layout=figure_layout)\n",
    "#set up the heatmap layer based on the coordinates and humunity\n",
    "heatmap = gmaps.heatmap_layer(coordinates,weights=movie_num,dissipating=False)\n",
    "#add the heatlayer\n",
    "fig.add_layer(heatmap)\n",
    "#show the fig\n",
    "fig"
   ]
  },
  {
   "cell_type": "code",
   "execution_count": 21,
   "metadata": {},
   "outputs": [],
   "source": [
    "h_country_df = country_df[country_df['Hulu']==1]"
   ]
  },
  {
   "cell_type": "code",
   "execution_count": 22,
   "metadata": {},
   "outputs": [],
   "source": [
    "series = pd.Series\n",
    "h_country_list = h_country_df['Country'].str.split(',').apply(series, 1).stack()"
   ]
  },
  {
   "cell_type": "code",
   "execution_count": 23,
   "metadata": {},
   "outputs": [],
   "source": [
    "h_country_summary = h_country_list.value_counts()\n",
    "del h_country_summary['United States']"
   ]
  },
  {
   "cell_type": "code",
   "execution_count": 24,
   "metadata": {},
   "outputs": [
    {
     "data": {
      "text/plain": [
       "Index(['United Kingdom', 'Canada', 'France', 'Germany', 'Japan', 'Sweden',\n",
       "       'Denmark', 'Spain', 'Australia', 'Italy', 'South Korea', 'Ireland',\n",
       "       'China', 'Belgium', 'Mexico', 'Norway', 'India', 'Netherlands',\n",
       "       'Switzerland', 'Colombia', 'Argentina', 'Iceland', 'Hong Kong',\n",
       "       'Czech Republic', 'Poland', 'Finland', 'United Arab Emirates', 'Russia',\n",
       "       'Brazil', 'Thailand', 'South Africa', 'New Zealand', 'Romania',\n",
       "       'Hungary', 'Egypt', 'Venezuela', 'Iran', 'Austria', 'Qatar', 'Bulgaria',\n",
       "       'Uruguay', 'Singapore', 'Greece', 'Latvia', 'Taiwan',\n",
       "       'Federal Republic of Yugoslavia', 'Tunisia', 'Monaco', 'Indonesia',\n",
       "       'Iraq', 'Palestine', 'Chile', 'Luxembourg', 'Portugal',\n",
       "       'Republic of North Macedonia', 'Israel', 'Ukraine', 'Cuba'],\n",
       "      dtype='object')"
      ]
     },
     "execution_count": 24,
     "metadata": {},
     "output_type": "execute_result"
    }
   ],
   "source": [
    "non_us_h_list = h_country_summary.index\n",
    "non_us_h_num = list(h_country_summary)\n",
    "non_us_h_list"
   ]
  },
  {
   "cell_type": "code",
   "execution_count": 25,
   "metadata": {},
   "outputs": [
    {
     "name": "stdout",
     "output_type": "stream",
     "text": [
      "57\n",
      "57\n",
      "57\n"
     ]
    }
   ],
   "source": [
    "# Google developer API key\n",
    "from config import gkey\n",
    "coordinates=[]\n",
    "country_names = []\n",
    "movie_num = []\n",
    "i=0\n",
    "for country in non_us_h_list:\n",
    "    \n",
    "    try:\n",
    "        target_url = ('https://maps.googleapis.com/maps/api/geocode/json?'\n",
    "            'address={0}&key={1}').format(country, gkey)\n",
    "        geo_data = requests.get(target_url).json()\n",
    "        lat = geo_data[\"results\"][0][\"geometry\"][\"location\"][\"lat\"]\n",
    "        lng = geo_data[\"results\"][0][\"geometry\"][\"location\"][\"lng\"]\n",
    "        country_name = geo_data[\"results\"][0]['address_components'][0]['long_name']\n",
    "        country_names.append(country_name)\n",
    "        coordinate = (lat,lng)\n",
    "        coordinates.append(coordinate)\n",
    "        movie_num.append(non_us_n_num[i])\n",
    "    except (IndexError):\n",
    "        pass\n",
    "    i=i+1\n",
    "print(len(coordinates))\n",
    "print(len(movie_num))\n",
    "print(len(country_names))"
   ]
  },
  {
   "cell_type": "code",
   "execution_count": 26,
   "metadata": {},
   "outputs": [
    {
     "data": {
      "application/vnd.jupyter.widget-view+json": {
       "model_id": "ca2e58745c144b349ddd74545cac582a",
       "version_major": 2,
       "version_minor": 0
      },
      "text/plain": [
       "Figure(layout=FigureLayout(border='1px solid black', height='600px', margin='0 auto 0 auto', padding='1px', wi…"
      ]
     },
     "metadata": {},
     "output_type": "display_data"
    }
   ],
   "source": [
    "# Access maps with unique API key\n",
    "gmaps.configure(api_key=gkey)\n",
    "#set up the figure layout\n",
    "figure_layout = {\n",
    "    'width': '800px',\n",
    "    'height': '600px',\n",
    "    'border': '1px solid black',\n",
    "    'padding': '1px',\n",
    "    'margin': '0 auto 0 auto'\n",
    "}\n",
    "fig = gmaps.figure(layout=figure_layout)\n",
    "#set up the heatmap layer based on the coordinates and humunity\n",
    "heatmap = gmaps.heatmap_layer(coordinates,weights=movie_num,dissipating=False)\n",
    "#add the heatlayer\n",
    "fig.add_layer(heatmap)\n",
    "#show the fig\n",
    "fig"
   ]
  },
  {
   "cell_type": "code",
   "execution_count": null,
   "metadata": {},
   "outputs": [],
   "source": []
  }
 ],
 "metadata": {
  "kernelspec": {
   "display_name": "Python 3",
   "language": "python",
   "name": "python3"
  },
  "language_info": {
   "codemirror_mode": {
    "name": "ipython",
    "version": 3
   },
   "file_extension": ".py",
   "mimetype": "text/x-python",
   "name": "python",
   "nbconvert_exporter": "python",
   "pygments_lexer": "ipython3",
   "version": "3.8.3"
  }
 },
 "nbformat": 4,
 "nbformat_minor": 4
}
